{
 "cells": [
  {
   "cell_type": "code",
   "execution_count": 11,
   "metadata": {},
   "outputs": [],
   "source": [
    "import keras\n",
    "from keras import backend as K\n",
    "from keras.datasets import mnist\n",
    "from keras.models import Sequential\n",
    "from keras.models import model_from_yaml\n",
    "from keras.utils import to_categorical\n",
    "from keras.layers import Conv2D, MaxPooling2D, Dense, Flatten"
   ]
  },
  {
   "cell_type": "code",
   "execution_count": 12,
   "metadata": {},
   "outputs": [],
   "source": [
    "# Some definitions...\n",
    "# A \"class\" for each digit from 0-9\n",
    "num_classes = 10\n",
    "# How many times to run through the data while training\n",
    "num_epochs = 1 \n",
    "# Input (image) dimensions\n",
    "img_rows, img_cols = 28, 28\n"
   ]
  },
  {
   "cell_type": "code",
   "execution_count": 13,
   "metadata": {},
   "outputs": [],
   "source": [
    "# mnist.load_data() returns 2 tuples split into training/testing\n",
    "(x_train, y_train), (x_test, y_test) = mnist.load_data()\n"
   ]
  },
  {
   "cell_type": "code",
   "execution_count": 14,
   "metadata": {},
   "outputs": [],
   "source": [
    "# Need to reshape data based on backend preferred image format (TF vs Theano)\n",
    "if K.image_data_format() == 'channels_first':\n",
    "    x_train = x_train.reshape(x_train.shape[0], 1, img_rows, img_cols).astype('float32')\n",
    "    x_test = x_test.reshape(x_test.shape[0], 1, img_rows, img_cols).astype('float32')\n",
    "    input_shape = (1, img_rows, img_cols)\n",
    "else:\n",
    "    x_train = x_train.reshape(x_train.shape[0], img_rows, img_cols, 1).astype('float32')\n",
    "    x_test = x_test.reshape(x_test.shape[0], img_rows, img_cols, 1).astype('float32')\n",
    "    input_shape = (img_rows, img_cols, 1)\n"
   ]
  },
  {
   "cell_type": "code",
   "execution_count": 15,
   "metadata": {},
   "outputs": [],
   "source": [
    "# Normalize pixel values between 0 and 1 per color channel for easier training\n",
    "x_train /= 255 \n",
    "x_test /= 255"
   ]
  },
  {
   "cell_type": "code",
   "execution_count": 16,
   "metadata": {},
   "outputs": [],
   "source": [
    "# Convert class label values to one-hot vectors [0, 0, ..., 1, 0, ..., 0]\n",
    "y_train = to_categorical(y_train, num_classes)\n",
    "y_test = to_categorical(y_test, num_classes)"
   ]
  },
  {
   "cell_type": "code",
   "execution_count": 17,
   "metadata": {},
   "outputs": [
    {
     "name": "stdout",
     "output_type": "stream",
     "text": [
      "Training samples: 60000\n",
      "Test samples: 10000\n"
     ]
    }
   ],
   "source": [
    "# Print out sample sizes\n",
    "print(\"Training samples:\", x_train.shape[0])\n",
    "print(\"Test samples:\", x_test.shape[0])\n"
   ]
  },
  {
   "cell_type": "code",
   "execution_count": 21,
   "metadata": {},
   "outputs": [],
   "source": [
    "# Build model\n",
    "model = Sequential()\n",
    "# Convolutional Layer (input shape specified because its the first layer\n",
    "model.add(Conv2D(32, (3, 3), activation='relu', input_shape=input_shape))\n",
    "# Pooling Layer (speeds up computation somewhat by decreasing data size and\n",
    "#                allows for more local features to be learned)\n",
    "model.add(MaxPooling2D((2, 2)))\n",
    "\n",
    "# Flattens data into one dimension for fully connected layer to follow\n",
    "model.add(Flatten())\n",
    "# Fully Connected Layer\n",
    "model.add(Dense(128, activation='relu'))\n",
    "# Output layer\n",
    "model.add(Dense(num_classes, activation='softmax'))"
   ]
  },
  {
   "cell_type": "code",
   "execution_count": 23,
   "metadata": {},
   "outputs": [],
   "source": [
    "# Choosing loss function and optimizer for training\n",
    "model.compile(loss='categorical_crossentropy',\n",
    "                optimizer='sgd',\n",
    "                metrics=['accuracy'])"
   ]
  },
  {
   "cell_type": "code",
   "execution_count": 24,
   "metadata": {},
   "outputs": [
    {
     "name": "stdout",
     "output_type": "stream",
     "text": [
      "Train on 60000 samples, validate on 10000 samples\n",
      "Epoch 1/1\n",
      "60000/60000 [==============================] - 55s 915us/step - loss: 0.4796 - acc: 0.8687 - val_loss: 0.2382 - val_acc: 0.9298\n"
     ]
    },
    {
     "data": {
      "text/plain": [
       "<keras.callbacks.History at 0x7f7a0140dc18>"
      ]
     },
     "execution_count": 24,
     "metadata": {},
     "output_type": "execute_result"
    }
   ],
   "source": [
    "# Fit to training data (like sklearn classifiers)\n",
    "model.fit(x_train, y_train,\n",
    "          epochs=num_epochs,\n",
    "          validation_data=(x_test, y_test))"
   ]
  },
  {
   "cell_type": "code",
   "execution_count": 25,
   "metadata": {},
   "outputs": [
    {
     "name": "stdout",
     "output_type": "stream",
     "text": [
      "Test loss: 0.2382288802742958\n",
      "Test accuracy: 92.98%\n"
     ]
    }
   ],
   "source": [
    "# Save metrics of network like accuracy for observation\n",
    "score = model.evaluate(x_test, y_test, verbose=0)\n",
    "\n",
    "# Print out results\n",
    "print(\"Test loss:\", score[0])\n",
    "print(\"Test accuracy: {:.2f}%\".format(score[1]*100))"
   ]
  },
  {
   "cell_type": "code",
   "execution_count": 26,
   "metadata": {},
   "outputs": [],
   "source": [
    "# Save model\n",
    "model_yaml = model.to_yaml()\n",
    "with open('model.yaml', 'w') as yaml_file:\n",
    "    yaml_file.write(model_yaml)\n"
   ]
  },
  {
   "cell_type": "code",
   "execution_count": 28,
   "metadata": {},
   "outputs": [
    {
     "name": "stdout",
     "output_type": "stream",
     "text": [
      "Saved model and weights to disk.\n"
     ]
    }
   ],
   "source": [
    "# Save weights\n",
    "model.save_weights('model_weights.h5')\n",
    "print('Saved model and weights to disk.')"
   ]
  },
  {
   "cell_type": "code",
   "execution_count": null,
   "metadata": {},
   "outputs": [],
   "source": []
  }
 ],
 "metadata": {
  "kernelspec": {
   "display_name": "Python 3",
   "language": "python",
   "name": "python3"
  },
  "language_info": {
   "codemirror_mode": {
    "name": "ipython",
    "version": 3
   },
   "file_extension": ".py",
   "mimetype": "text/x-python",
   "name": "python",
   "nbconvert_exporter": "python",
   "pygments_lexer": "ipython3",
   "version": "3.6.4"
  }
 },
 "nbformat": 4,
 "nbformat_minor": 2
}
